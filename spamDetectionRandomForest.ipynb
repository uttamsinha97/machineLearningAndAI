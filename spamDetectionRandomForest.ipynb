{
 "cells": [
  {
   "cell_type": "code",
   "execution_count": 1,
   "metadata": {
    "collapsed": true
   },
   "outputs": [],
   "source": [
    "import numpy as np\n",
    "import pandas as pd\n",
    "import re\n",
    "import nltk\n",
    "from nltk.stem.porter import PorterStemmer\n",
    "from nltk.corpus import stopwords\n",
    "\n",
    "url = 'C:\\\\Users\\\\UttamSinha\\\\spam.csv'\n",
    "dataset1 = pd.read_csv(url,encoding='latin-1')\n",
    "dataset1.head()\n",
    "y=dataset1.iloc[:,0].values"
   ]
  },
  {
   "cell_type": "code",
   "execution_count": 2,
   "metadata": {
    "collapsed": true
   },
   "outputs": [],
   "source": [
    "orpus=[]\n",
    "for i in range(0,5572):\n",
    "    review = re.sub('[^a-zA-Z]',' ',dataset1['v2'][i])\n",
    "    review=review.lower()\n",
    "    review=review.split()\n",
    "    ps=PorterStemmer()\n",
    "    review=[ps.stem(word) for word in review if not word in set(stopwords.words('english'))]\n",
    "    review=' '.join(review)\n",
    "    orpus.append(review)"
   ]
  },
  {
   "cell_type": "code",
   "execution_count": 3,
   "metadata": {
    "collapsed": true
   },
   "outputs": [],
   "source": [
    "from sklearn.feature_extraction.text import CountVectorizer    \n",
    "cv=CountVectorizer(max_features=3000)\n",
    "x=cv.fit_transform(orpus).toarray()\n",
    "from sklearn.preprocessing import LabelEncoder\n",
    "le=LabelEncoder()\n",
    "y=le.fit_transform(y) "
   ]
  },
  {
   "cell_type": "code",
   "execution_count": 4,
   "metadata": {},
   "outputs": [
    {
     "name": "stderr",
     "output_type": "stream",
     "text": [
      "C:\\Users\\UttamSinha\\Anaconda3\\envs\\tensorflow\\lib\\site-packages\\sklearn\\cross_validation.py:41: DeprecationWarning: This module was deprecated in version 0.18 in favor of the model_selection module into which all the refactored classes and functions are moved. Also note that the interface of the new CV iterators are different from that of this module. This module will be removed in 0.20.\n",
      "  \"This module will be removed in 0.20.\", DeprecationWarning)\n"
     ]
    },
    {
     "data": {
      "text/plain": [
       "GaussianNB(priors=None)"
      ]
     },
     "execution_count": 4,
     "metadata": {},
     "output_type": "execute_result"
    }
   ],
   "source": [
    "from sklearn.cross_validation import train_test_split\n",
    "X_train, X_test, y_train, y_test = train_test_split(x, y, test_size = 0.20)\n",
    "from sklearn.naive_bayes import GaussianNB\n",
    "classifier=GaussianNB()\n",
    "classifier.fit(X_train,y_train)"
   ]
  },
  {
   "cell_type": "code",
   "execution_count": 5,
   "metadata": {},
   "outputs": [
    {
     "name": "stdout",
     "output_type": "stream",
     "text": [
      "Accuracy score: 0.8556053811659193\n",
      "Precision score: 0.45985401459854014\n",
      "Recall score: 0.9064748201438849\n",
      "F1 score: 0.6101694915254237\n"
     ]
    }
   ],
   "source": [
    "pred=classifier.predict(X_test)\n",
    "from sklearn.metrics import accuracy_score,precision_score,recall_score,f1_score\n",
    "print('Accuracy score: {}'.format(accuracy_score(y_test, pred)))\n",
    "print('Precision score: {}'.format(precision_score(y_test, pred)))\n",
    "print('Recall score: {}'.format(recall_score(y_test, pred)))\n",
    "print('F1 score: {}'.format(f1_score(y_test, pred)))"
   ]
  },
  {
   "cell_type": "code",
   "execution_count": 6,
   "metadata": {},
   "outputs": [
    {
     "name": "stdout",
     "output_type": "stream",
     "text": [
      "Accuracy score: 0.9766816143497757\n",
      "Precision score: 0.9669421487603306\n",
      "Recall score: 0.841726618705036\n",
      "F1 score: 0.9\n"
     ]
    }
   ],
   "source": [
    "from sklearn.ensemble import RandomForestClassifier\n",
    "classifier1=RandomForestClassifier(n_estimators=15,criterion='entropy')\n",
    "classifier1.fit(X_train,y_train)\n",
    "predRF=classifier1.predict(X_test)\n",
    "from sklearn.metrics import accuracy_score,precision_score,recall_score,f1_score\n",
    "print('Accuracy score: {}'.format(accuracy_score(y_test, predRF)))\n",
    "print('Precision score: {}'.format(precision_score(y_test, predRF)))\n",
    "print('Recall score: {}'.format(recall_score(y_test, predRF)))\n",
    "print('F1 score: {}'.format(f1_score(y_test, predRF)))\n",
    "#from subprocess import check_output\n",
    "#print(check_output([\"ls\", \"../input\"]).decode(\"utf8\"))"
   ]
  },
  {
   "cell_type": "code",
   "execution_count": null,
   "metadata": {
    "collapsed": true
   },
   "outputs": [],
   "source": []
  }
 ],
 "metadata": {
  "kernelspec": {
   "display_name": "Python 3",
   "language": "python",
   "name": "python3"
  },
  "language_info": {
   "codemirror_mode": {
    "name": "ipython",
    "version": 3
   },
   "file_extension": ".py",
   "mimetype": "text/x-python",
   "name": "python",
   "nbconvert_exporter": "python",
   "pygments_lexer": "ipython3",
   "version": "3.5.4"
  }
 },
 "nbformat": 4,
 "nbformat_minor": 2
}
